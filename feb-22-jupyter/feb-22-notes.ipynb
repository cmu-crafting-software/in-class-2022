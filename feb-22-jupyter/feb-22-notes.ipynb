{
 "cells": [
  {
   "cell_type": "code",
   "execution_count": 1,
   "id": "7358189a-285a-4480-b380-e32073ee53fb",
   "metadata": {},
   "outputs": [
    {
     "name": "stdout",
     "output_type": "stream",
     "text": [
      "Hello World\n"
     ]
    }
   ],
   "source": [
    "print('Hello World')"
   ]
  },
  {
   "cell_type": "code",
   "execution_count": 2,
   "id": "726746c3-d790-42bc-9044-e80162dd399a",
   "metadata": {},
   "outputs": [
    {
     "name": "stdout",
     "output_type": "stream",
     "text": [
      "17\n"
     ]
    }
   ],
   "source": [
    "print(5+12)"
   ]
  },
  {
   "cell_type": "code",
   "execution_count": 3,
   "id": "7664ef02-be3a-4fb7-9460-ac3976a182d0",
   "metadata": {},
   "outputs": [],
   "source": [
    "x = 5\n",
    "y = 11"
   ]
  },
  {
   "cell_type": "code",
   "execution_count": 4,
   "id": "8fdd6b29-b224-4929-a6f3-55a514c9acd2",
   "metadata": {},
   "outputs": [
    {
     "name": "stdout",
     "output_type": "stream",
     "text": [
      "16\n"
     ]
    }
   ],
   "source": [
    "z = x + y\n",
    "print(z)"
   ]
  },
  {
   "cell_type": "markdown",
   "id": "49945008-0c88-443f-8750-ffdc8d52976a",
   "metadata": {},
   "source": [
    "Kernel = code the environment is running in, like a 'wrapper' for all code\n",
    "restarting kernel is equivalent to restarting from scratch --> get rid of current state\n",
    "\n",
    "## Benefit of the notebook:\n",
    "- rapid prototype small pieces of code\n",
    "- annotate or comment \n",
    "- similar to R Markdown\n",
    "- data visualization!!\n",
    "- great for exploration\n",
    "- presentation / storytelling\n",
    "\n",
    "## Why notebooks can be BAD:\n",
    "1. don't have to run cells in order -- have to keep track of the order you wrote code\n",
    "2. hidden states\n",
    "3. No easy way to write tests\n",
    "4. not easy for version control\n"
   ]
  },
  {
   "cell_type": "code",
   "execution_count": null,
   "id": "14d4c011-e2f2-4d68-8a3b-f7eb8c3ad2ab",
   "metadata": {},
   "outputs": [],
   "source": []
  }
 ],
 "metadata": {
  "kernelspec": {
   "display_name": "Python 3 (ipykernel)",
   "language": "python",
   "name": "python3"
  },
  "language_info": {
   "codemirror_mode": {
    "name": "ipython",
    "version": 3
   },
   "file_extension": ".py",
   "mimetype": "text/x-python",
   "name": "python",
   "nbconvert_exporter": "python",
   "pygments_lexer": "ipython3",
   "version": "3.10.2"
  }
 },
 "nbformat": 4,
 "nbformat_minor": 5
}
