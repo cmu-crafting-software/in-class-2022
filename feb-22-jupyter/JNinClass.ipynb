{
 "cells": [
  {
   "cell_type": "code",
   "execution_count": 22,
   "id": "9aaa43f9-b61d-4f77-9766-dd3ab92efb00",
   "metadata": {},
   "outputs": [],
   "source": [
    "import pandas as pd\n",
    "import matplotlib.pyplot as plt"
   ]
  },
  {
   "cell_type": "markdown",
   "id": "39dee40b-8568-47a9-a0dd-04d5c2f7fe09",
   "metadata": {},
   "source": [
    "# Part 1"
   ]
  },
  {
   "cell_type": "code",
   "execution_count": 4,
   "id": "d8329e8f-b7dd-4d1a-899a-d61136cdb299",
   "metadata": {},
   "outputs": [],
   "source": [
    "\n",
    "europe = pd.read_csv('data/gapminder_gdp_europe.csv', index_col='country')\n",
    "europe = pd.DataFrame(europe)\n",
    "\n",
    "#print(europe)\n",
    "\n",
    "serbiaGDP_2007 = europe.at['Serbia', 'gdpPercap_2007']\n",
    "#print(serbiaGDP_2007)\n"
   ]
  },
  {
   "cell_type": "markdown",
   "id": "703816e2-58e9-4688-ae32-2efb80bfc7fd",
   "metadata": {},
   "source": [
    "# Part 2"
   ]
  },
  {
   "cell_type": "code",
   "execution_count": 5,
   "id": "c3b67bc8-3f3a-420c-85eb-eab16f80091b",
   "metadata": {},
   "outputs": [],
   "source": [
    "first = pd.read_csv('data/gapminder_all.csv', index_col='country') #loading csv file of data indexing by the country name\n",
    "second = first[first['continent'] == 'Americas'] #creating subset of the dataframe of all the data having to do with the Americas\n",
    "third = second.drop('Puerto Rico') #getting rid of puerto rico row, save as new df\n",
    "fourth = third.drop('continent', axis = 1) # gets rid of the column listing countries as in the americas (continent)\n",
    "fourth.to_csv('result.csv') #saving fourth as a csv file\n",
    "\n"
   ]
  },
  {
   "cell_type": "markdown",
   "id": "26ea6b28-623d-4914-af08-301419a0c4a2",
   "metadata": {},
   "source": [
    "# Part 3\n",
    "## a. no they will not print out the same thing\n",
    "## b. numerical indices include the first row and col as index 0. names slices are inclusive for the labeles provided"
   ]
  },
  {
   "cell_type": "code",
   "execution_count": 6,
   "id": "d76a9cf4-a177-43ab-86d4-d42dcd198adb",
   "metadata": {},
   "outputs": [],
   "source": [
    "\n",
    "europe_gdp_data = pd.read_csv('data/gapminder_gdp_europe.csv', index_col='country')\n",
    "#print(europe_gdp_data.iloc[0:2, 0:2])\n",
    "#print(europe_gdp_data.loc['Albania':'Belgium', 'gdpPercap_1952':'gdpPercap_1962'])\n"
   ]
  },
  {
   "cell_type": "markdown",
   "id": "969bddf0-a367-470f-9733-6308c5e43aeb",
   "metadata": {},
   "source": [
    "# part4\n"
   ]
  },
  {
   "cell_type": "code",
   "execution_count": 25,
   "id": "0560a9f5-76a2-48a7-bc44-5dc756f0b2b8",
   "metadata": {},
   "outputs": [
    {
     "name": "stdout",
     "output_type": "stream",
     "text": [
      "               continent  gdpPercap_1952  gdpPercap_1957  gdpPercap_1962  \\\n",
      "country                                                                    \n",
      "Algeria           Africa     2449.008185     3013.976023     2550.816880   \n",
      "Angola            Africa     3520.610273     3827.940465     4269.276742   \n",
      "Benin             Africa     1062.752200      959.601080      949.499064   \n",
      "Botswana          Africa      851.241141      918.232535      983.653976   \n",
      "Burkina Faso      Africa      543.255241      617.183465      722.512021   \n",
      "...                  ...             ...             ...             ...   \n",
      "Switzerland       Europe    14734.232750    17909.489730    20431.092700   \n",
      "Turkey            Europe     1969.100980     2218.754257     2322.869908   \n",
      "United Kingdom    Europe     9979.508487    11283.177950    12477.177070   \n",
      "Australia        Oceania    10039.595640    10949.649590    12217.226860   \n",
      "New Zealand      Oceania    10556.575660    12247.395320    13175.678000   \n",
      "\n",
      "                gdpPercap_1967  gdpPercap_1972  gdpPercap_1977  \\\n",
      "country                                                          \n",
      "Algeria            3246.991771     4182.663766     4910.416756   \n",
      "Angola             5522.776375     5473.288005     3008.647355   \n",
      "Benin              1035.831411     1085.796879     1029.161251   \n",
      "Botswana           1214.709294     2263.611114     3214.857818   \n",
      "Burkina Faso        794.826560      854.735976      743.387037   \n",
      "...                        ...             ...             ...   \n",
      "Switzerland       22966.144320    27195.113040    26982.290520   \n",
      "Turkey             2826.356387     3450.696380     4269.122326   \n",
      "United Kingdom    14142.850890    15895.116410    17428.748460   \n",
      "Australia         14526.124650    16788.629480    18334.197510   \n",
      "New Zealand       14463.918930    16046.037280    16233.717700   \n",
      "\n",
      "                gdpPercap_1982  gdpPercap_1987  gdpPercap_1992  ...  \\\n",
      "country                                                         ...   \n",
      "Algeria            5745.160213     5681.358539     5023.216647  ...   \n",
      "Angola             2756.953672     2430.208311     2627.845685  ...   \n",
      "Benin              1277.897616     1225.856010     1191.207681  ...   \n",
      "Botswana           4551.142150     6205.883850     7954.111645  ...   \n",
      "Burkina Faso        807.198586      912.063142      931.752773  ...   \n",
      "...                        ...             ...             ...  ...   \n",
      "Switzerland       28397.715120    30281.704590    31871.530300  ...   \n",
      "Turkey             4241.356344     5089.043686     5678.348271  ...   \n",
      "United Kingdom    18232.424520    21664.787670    22705.092540  ...   \n",
      "Australia         19477.009280    21888.889030    23424.766830  ...   \n",
      "New Zealand       17632.410400    19007.191290    18363.324940  ...   \n",
      "\n",
      "                  pop_1962    pop_1967    pop_1972    pop_1977    pop_1982  \\\n",
      "country                                                                      \n",
      "Algeria         11000948.0  12760499.0  14760787.0  17152804.0  20033753.0   \n",
      "Angola           4826015.0   5247469.0   5894858.0   6162675.0   7016384.0   \n",
      "Benin            2151895.0   2427334.0   2761407.0   3168267.0   3641603.0   \n",
      "Botswana          512764.0    553541.0    619351.0    781472.0    970347.0   \n",
      "Burkina Faso     4919632.0   5127935.0   5433886.0   5889574.0   6634596.0   \n",
      "...                    ...         ...         ...         ...         ...   \n",
      "Switzerland      5666000.0   6063000.0   6401400.0   6316424.0   6468126.0   \n",
      "Turkey          29788695.0  33411317.0  37492953.0  42404033.0  47328791.0   \n",
      "United Kingdom  53292000.0  54959000.0  56079000.0  56179000.0  56339704.0   \n",
      "Australia       10794968.0  11872264.0  13177000.0  14074100.0  15184200.0   \n",
      "New Zealand      2488550.0   2728150.0   2929100.0   3164900.0   3210650.0   \n",
      "\n",
      "                  pop_1987    pop_1992    pop_1997  pop_2002  pop_2007  \n",
      "country                                                                 \n",
      "Algeria         23254956.0  26298373.0  29072015.0  31287142  33333216  \n",
      "Angola           7874230.0   8735988.0   9875024.0  10866106  12420476  \n",
      "Benin            4243788.0   4981671.0   6066080.0   7026113   8078314  \n",
      "Botswana         1151184.0   1342614.0   1536536.0   1630347   1639131  \n",
      "Burkina Faso     7586551.0   8878303.0  10352843.0  12251209  14326203  \n",
      "...                    ...         ...         ...       ...       ...  \n",
      "Switzerland      6649942.0   6995447.0   7193761.0   7361757   7554661  \n",
      "Turkey          52881328.0  58179144.0  63047647.0  67308928  71158647  \n",
      "United Kingdom  56981620.0  57866349.0  58808266.0  59912431  60776238  \n",
      "Australia       16257249.0  17481977.0  18565243.0  19546792  20434176  \n",
      "New Zealand      3317166.0   3437674.0   3676187.0   3908037   4115771  \n",
      "\n",
      "[142 rows x 37 columns]\n"
     ]
    }
   ],
   "source": [
    "all = pd.read_csv('data/gapminder_all.csv', index_col='country')\n",
    "GDPperCap1982 = all['gdpPercap_1982']\n",
    "#print(GDPperCap1982)\n",
    "GDPDenmark = europe.loc['Denmark',:]\n",
    "#print(GDPDenmark)\n",
    "print(all)\n",
    "\n",
    "GDP_all_from1985 = all.iloc[:,8:13]\n",
    "#print(GDP_all_from1985)\n",
    "\n",
    "#GPD_math = all['gdpPerca_2007']/all['gdpPercap_1952']\n",
    "all['GPD_math'] = all['gdpPercap_2007']/all['gdpPercap_1952']\n",
    "#print(all)"
   ]
  },
  {
   "cell_type": "markdown",
   "id": "80986e8e-7b9c-4059-9046-5982068239ea",
   "metadata": {},
   "source": [
    "# In class 02/22/2022"
   ]
  },
  {
   "cell_type": "code",
   "execution_count": 32,
   "id": "f04d2201-5090-4b8c-a5bd-330dcdcf9a18",
   "metadata": {},
   "outputs": [
    {
     "name": "stdout",
     "output_type": "stream",
     "text": [
      "country\n",
      "Algeria            6223.367465\n",
      "Angola             4797.231267\n",
      "Benin              1441.284873\n",
      "Botswana          12569.851770\n",
      "Burkina Faso       1217.032994\n",
      "                      ...     \n",
      "Switzerland       37506.419070\n",
      "Turkey             8458.276384\n",
      "United Kingdom    33203.261280\n",
      "Australia         34435.367440\n",
      "New Zealand       25185.009110\n",
      "Name: gdpPercap_2007, Length: 142, dtype: float64\n"
     ]
    },
    {
     "data": {
      "image/png": "[encoded data removed]",
      "text/plain": [
       "<Figure size 432x288 with 1 Axes>"
      ]
     },
     "metadata": {
      "needs_background": "light"
     },
     "output_type": "display_data"
    },
    {
     "data": {
      "image/png": "[encoded data removed]",
      "text/plain": [
       "<Figure size 432x288 with 1 Axes>"
      ]
     },
     "metadata": {
      "needs_background": "light"
     },
     "output_type": "display_data"
    }
   ],
   "source": [
    "all = pd.read_csv('data/gapminder_all.csv', index_col='country')\n",
    "GDP2007 = all['gdpPercap_2007']\n",
    "print(GDP2007)\n",
    "boxplot = all.boxplot(column = ['gdpPercap_2007'])\n",
    "boxplotLifeExp = all.boxplot(column = ['lifeExp_2007'], by = 'continent')"
   ]
  },
  {
   "cell_type": "code",
   "execution_count": null,
   "id": "ac2c698d-eb78-457e-bb8d-4cfa7cd975b5",
   "metadata": {},
   "outputs": [],
   "source": []
  },
  {
   "cell_type": "code",
   "execution_count": null,
   "id": "742e270f-e7ce-41cf-9bb4-a1fb62728f34",
   "metadata": {},
   "outputs": [],
   "source": []
  }
 ],
 "metadata": {
  "kernelspec": {
   "display_name": "Python 3 (ipykernel)",
   "language": "python",
   "name": "python3"
  },
  "language_info": {
   "codemirror_mode": {
    "name": "ipython",
    "version": 3
   },
   "file_extension": ".py",
   "mimetype": "text/x-python",
   "name": "python",
   "nbconvert_exporter": "python",
   "pygments_lexer": "ipython3",
   "version": "3.9.4"
  }
 },
 "nbformat": 4,
 "nbformat_minor": 5
}
