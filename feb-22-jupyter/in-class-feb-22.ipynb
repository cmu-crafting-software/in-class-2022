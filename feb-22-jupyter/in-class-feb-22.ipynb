{
 "cells": [
  {
   "cell_type": "markdown",
   "id": "aa55b2b2-a0c0-4a95-b8fe-49346d13aebc",
   "metadata": {},
   "source": [
    "## Notebooks "
   ]
  },
  {
   "cell_type": "markdown",
   "id": "0bfde5b5-fe28-49d7-8d08-f78f76893e48",
   "metadata": {},
   "source": [
    "#### problems with notebooks:\n",
    "- hidden state \n",
    "    - don't know current state of variables\n",
    "    - want pure functions/cells/code - not encouraged my notebooks \n",
    "- not running cells in order \n",
    "    - running cells multiple times -> apending to list multiple times \n",
    "- testing setup for vs code\n",
    "- version control is hard \n",
    "\n",
    "#### good with notebooks:\n",
    "- data visualization - after each cell\n",
    "- data exploration \n",
    "- presentation tool - markdown + python cells \n",
    "\n"
   ]
  },
  {
   "cell_type": "code",
   "execution_count": 19,
   "id": "33064ebd-96c2-45c2-83b6-4e78ae2a99d6",
   "metadata": {},
   "outputs": [],
   "source": [
    "import pandas as pd\n",
    "import matplotlib as plt"
   ]
  },
  {
   "cell_type": "code",
   "execution_count": 10,
   "id": "34847a6d-7cff-42cb-9f86-cf4f800c3778",
   "metadata": {},
   "outputs": [
    {
     "name": "stdout",
     "output_type": "stream",
     "text": [
      "9786.534714\n"
     ]
    }
   ],
   "source": [
    "#1\n",
    "first = pd.read_csv('data/gapminder_all.csv', index_col='country')\n",
    "print(first['gdpPercap_2007'].loc['Serbia'])"
   ]
  },
  {
   "cell_type": "code",
   "execution_count": 11,
   "id": "5c44ccd2-45a5-476c-b96a-f6184e489590",
   "metadata": {},
   "outputs": [],
   "source": [
    "#2\n",
    "first = pd.read_csv('data/gapminder_all.csv', index_col='country') # reads data \n",
    "second = first[first['continent'] == 'Americas'] # get all the americas rows \n",
    "# print(second)\n",
    "third = second.drop('Puerto Rico') # got rid of puerto rico\n",
    "# print(third)\n",
    "fourth = third.drop('continent', axis = 1) # drops column continent\n",
    "# print(fourth)\n",
    "fourth.to_csv('result.csv')"
   ]
  },
  {
   "cell_type": "code",
   "execution_count": 8,
   "id": "04f04bc0-0909-4772-9956-401f23612d7e",
   "metadata": {},
   "outputs": [
    {
     "name": "stdout",
     "output_type": "stream",
     "text": [
      "         gdpPercap_1952  gdpPercap_1957\n",
      "country                                \n",
      "Albania     1601.056136     1942.284244\n",
      "Austria     6137.076492     8842.598030\n",
      "         gdpPercap_1952  gdpPercap_1957  gdpPercap_1962\n",
      "country                                                \n",
      "Albania     1601.056136     1942.284244     2312.888958\n",
      "Austria     6137.076492     8842.598030    10750.721110\n",
      "Belgium     8343.105127     9714.960623    10991.206760\n"
     ]
    }
   ],
   "source": [
    "# 3 \n",
    "europe_gdp_data = pd.read_csv('data/gapminder_gdp_europe.csv', index_col='country')\n",
    "print(europe_gdp_data.iloc[0:2, 0:2])\n",
    "print(europe_gdp_data.loc['Albania':'Belgium', 'gdpPercap_1952':'gdpPercap_1962'])\n",
    "# not the same 0:2 gets columns 0 and 1 and rows 0 and 1 \n",
    "\n",
    "# named slices are inclusive while number slices are not inclusive of the end value"
   ]
  },
  {
   "cell_type": "code",
   "execution_count": 9,
   "id": "f82f57c6-89f2-484c-b8a9-5f13a2250052",
   "metadata": {},
   "outputs": [
    {
     "name": "stdout",
     "output_type": "stream",
     "text": [
      "country\n",
      "Algeria            5745.160213\n",
      "Angola             2756.953672\n",
      "Benin              1277.897616\n",
      "Botswana           4551.142150\n",
      "Burkina Faso        807.198586\n",
      "                      ...     \n",
      "Switzerland       28397.715120\n",
      "Turkey             4241.356344\n",
      "United Kingdom    18232.424520\n",
      "Australia         19477.009280\n",
      "New Zealand       17632.410400\n",
      "Name: gdpPercap_1982, Length: 142, dtype: float64\n",
      "gdpPercap_1952    9692.385245\n",
      "gdpPercap_1957    11099.65935\n",
      "gdpPercap_1962    13583.31351\n",
      "gdpPercap_1967    15937.21123\n",
      "gdpPercap_1972    18866.20721\n",
      "gdpPercap_1977     20422.9015\n",
      "gdpPercap_1982    21688.04048\n",
      "gdpPercap_1987    25116.17581\n",
      "gdpPercap_1992    26406.73985\n",
      "gdpPercap_1997    29804.34567\n",
      "gdpPercap_2002    32166.50006\n",
      "gdpPercap_2007    35278.41874\n",
      "Name: Denmark, dtype: object\n",
      "                gdpPercap_1987  gdpPercap_1992  gdpPercap_1997  \\\n",
      "country                                                          \n",
      "Algeria            5681.358539     5023.216647     4797.295051   \n",
      "Angola             2430.208311     2627.845685     2277.140884   \n",
      "Benin              1225.856010     1191.207681     1232.975292   \n",
      "Botswana           6205.883850     7954.111645     8647.142313   \n",
      "Burkina Faso        912.063142      931.752773      946.294962   \n",
      "...                        ...             ...             ...   \n",
      "Switzerland       30281.704590    31871.530300    32135.323010   \n",
      "Turkey             5089.043686     5678.348271     6601.429915   \n",
      "United Kingdom    21664.787670    22705.092540    26074.531360   \n",
      "Australia         21888.889030    23424.766830    26997.936570   \n",
      "New Zealand       19007.191290    18363.324940    21050.413770   \n",
      "\n",
      "                gdpPercap_2002  gdpPercap_2007  \n",
      "country                                         \n",
      "Algeria            5288.040382     6223.367465  \n",
      "Angola             2773.287312     4797.231267  \n",
      "Benin              1372.877931     1441.284873  \n",
      "Botswana          11003.605080    12569.851770  \n",
      "Burkina Faso       1037.645221     1217.032994  \n",
      "...                        ...             ...  \n",
      "Switzerland       34480.957710    37506.419070  \n",
      "Turkey             6508.085718     8458.276384  \n",
      "United Kingdom    29478.999190    33203.261280  \n",
      "Australia         30687.754730    34435.367440  \n",
      "New Zealand       23189.801350    25185.009110  \n",
      "\n",
      "[142 rows x 5 columns]\n"
     ]
    }
   ],
   "source": [
    "# 4 \n",
    "# GDP per capita for all countries in 1982.\n",
    "print(first['gdpPercap_1982'])\n",
    "\n",
    "# GDP per capita for Denmark for all years.\n",
    "print(first.loc['Denmark', 'gdpPercap_1952':'gdpPercap_2007'])\n",
    "\n",
    "# GDP per capita for all countries for years after 1985.\n",
    "print(first.loc[:, 'gdpPercap_1987':'gdpPercap_2007'])"
   ]
  },
  {
   "cell_type": "code",
   "execution_count": 15,
   "id": "8016493d-c93a-41a8-b0f0-b23916bb5321",
   "metadata": {},
   "outputs": [
    {
     "data": {
      "text/plain": [
       "<AxesSubplot:>"
      ]
     },
     "execution_count": 15,
     "metadata": {},
     "output_type": "execute_result"
    },
    {
     "data": {
      "image/png": "[encoded data removed]",
      "text/plain": [
       "<Figure size 432x288 with 1 Axes>"
      ]
     },
     "metadata": {
      "needs_background": "light"
     },
     "output_type": "display_data"
    }
   ],
   "source": [
    "# What is the distribution of all GDPs in 2007.\n",
    "first.boxplot('gdpPercap_2007')"
   ]
  },
  {
   "cell_type": "code",
   "execution_count": 25,
   "id": "9844ec77-0afa-4abb-992f-70f55f96a581",
   "metadata": {},
   "outputs": [
    {
     "data": {
      "text/plain": [
       "<AxesSubplot:>"
      ]
     },
     "execution_count": 25,
     "metadata": {},
     "output_type": "execute_result"
    },
    {
     "data": {
      "image/png": "[encoded data removed]",
      "text/plain": [
       "<Figure size 432x288 with 1 Axes>"
      ]
     },
     "metadata": {
      "needs_background": "light"
     },
     "output_type": "display_data"
    }
   ],
   "source": [
    "first.boxplot('lifeExp_2007')"
   ]
  },
  {
   "cell_type": "code",
   "execution_count": 24,
   "id": "afc54a2b-c6e6-4da1-93de-43f5ea433388",
   "metadata": {},
   "outputs": [
    {
     "data": {
      "text/plain": [
       "<AxesSubplot:>"
      ]
     },
     "execution_count": 24,
     "metadata": {},
     "output_type": "execute_result"
    },
    {
     "data": {
      "image/png": "[encoded data removed]",
      "text/plain": [
       "<Figure size 432x288 with 1 Axes>"
      ]
     },
     "metadata": {
      "needs_background": "light"
     },
     "output_type": "display_data"
    }
   ],
   "source": [
    "group_contintent = first.groupby(['continent'])\n",
    "# print(group_contintent)\n",
    "group_contintent.boxplot('lifeExp_2007')\n",
    "\n"
   ]
  },
  {
   "cell_type": "code",
   "execution_count": 26,
   "id": "227955b7-2b3e-452b-8ab5-33a6cf460fd9",
   "metadata": {},
   "outputs": [
    {
     "data": {
      "text/plain": [
       "<AxesSubplot:title={'center':'lifeExp_2007'}, xlabel='continent'>"
      ]
     },
     "execution_count": 26,
     "metadata": {},
     "output_type": "execute_result"
    },
    {
     "data": {
      "image/png": "[encoded data removed]",
      "text/plain": [
       "<Figure size 432x288 with 1 Axes>"
      ]
     },
     "metadata": {
      "needs_background": "light"
     },
     "output_type": "display_data"
    }
   ],
   "source": [
    "first.boxplot('lifeExp_2007', by= 'continent')"
   ]
  },
  {
   "cell_type": "code",
   "execution_count": null,
   "id": "b69d76b1-f5c8-416e-9169-efd60ac0f709",
   "metadata": {},
   "outputs": [],
   "source": []
  }
 ],
 "metadata": {
  "kernelspec": {
   "display_name": "Python 3 (ipykernel)",
   "language": "python",
   "name": "python3"
  },
  "language_info": {
   "codemirror_mode": {
    "name": "ipython",
    "version": 3
   },
   "file_extension": ".py",
   "mimetype": "text/x-python",
   "name": "python",
   "nbconvert_exporter": "python",
   "pygments_lexer": "ipython3",
   "version": "3.10.2"
  }
 },
 "nbformat": 4,
 "nbformat_minor": 5
}
