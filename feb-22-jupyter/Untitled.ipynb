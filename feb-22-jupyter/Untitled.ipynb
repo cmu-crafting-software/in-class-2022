{
 "cells": [
  {
   "cell_type": "code",
   "execution_count": 3,
   "id": "25fef86c-50ca-4d73-a5a3-025967ee7cc0",
   "metadata": {},
   "outputs": [
    {
     "name": "stdout",
     "output_type": "stream",
     "text": [
      "     gdpPercap_2007\n",
      "132     9786.534714\n",
      "9786.534714\n",
      "         gdpPercap_1952  gdpPercap_1957\n",
      "country                                \n",
      "Albania     1601.056136     1942.284244\n",
      "Austria     6137.076492     8842.598030\n",
      "         gdpPercap_1952  gdpPercap_1957  gdpPercap_1962\n",
      "country                                                \n",
      "Albania     1601.056136     1942.284244     2312.888958\n",
      "Austria     6137.076492     8842.598030    10750.721110\n",
      "Belgium     8343.105127     9714.960623    10991.206760\n"
     ]
    }
   ],
   "source": [
    "import pandas as pd\n",
    "\n",
    "# 1\n",
    "gapminder = pd.read_csv(\"data/gapminder_all.csv\")\n",
    "serbia_data = gapminder.query('country.str.startswith(\"Serbia\")')\n",
    "print(serbia_data.filter(items=['gdpPercap_2007']))\n",
    "\n",
    "# 2\n",
    "first = pd.read_csv('data/gapminder_all.csv', index_col='country')\n",
    "print(first.at['Serbia','gdpPercap_2007'])\n",
    "\n",
    "second = first[first['continent'] == 'Americas']\n",
    "\n",
    "third = second.drop('Puerto Rico')\n",
    "\n",
    "fourth = third.drop('continent', axis = 1)\n",
    "fourth.to_csv('result.csv')\n",
    "\n",
    "# 3\n",
    "europe_gdp_data = pd.read_csv('data/gapminder_gdp_europe.csv', index_col='country')\n",
    "print(europe_gdp_data.iloc[0:2, 0:2])\n",
    "print(europe_gdp_data.loc['Albania':'Belgium', 'gdpPercap_1952':'gdpPercap_1962'])\n",
    "\n",
    "# 4\n",
    "gdp_1982 = gapminder['gdpPercap_1982']\n",
    "\n",
    "denmark = gapminder[gapminder['country'] == 'Denmark']\n",
    "denmark_gdp = denmark.filter(regex = 'gdp')\n",
    "\n",
    "country_gdp = gapminder.loc[:,'gdpPercap_1987':'gdpPercap_2007']\n",
    "\n",
    "gapminder['multiple_2007_1952'] = gapminder.gdpPercap_2007/gapminder.gdpPercap_1952\n",
    "multiple = gapminder[['country','multiple_2007_1952']]"
   ]
  },
  {
   "cell_type": "code",
   "execution_count": null,
   "id": "9c4fe4b5-9d65-42b0-b1fc-05f1f4f2ed22",
   "metadata": {},
   "outputs": [],
   "source": []
  }
 ],
 "metadata": {
  "kernelspec": {
   "display_name": "Python 3 (ipykernel)",
   "language": "python",
   "name": "python3"
  },
  "language_info": {
   "codemirror_mode": {
    "name": "ipython",
    "version": 3
   },
   "file_extension": ".py",
   "mimetype": "text/x-python",
   "name": "python",
   "nbconvert_exporter": "python",
   "pygments_lexer": "ipython3",
   "version": "3.8.10"
  }
 },
 "nbformat": 4,
 "nbformat_minor": 5
}
