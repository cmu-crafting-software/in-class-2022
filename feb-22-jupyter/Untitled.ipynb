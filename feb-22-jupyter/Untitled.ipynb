{
 "cells": [
  {
   "cell_type": "code",
   "execution_count": 10,
   "id": "3b41a97a-f74e-4d7f-b2d3-0f431df7ad0e",
   "metadata": {},
   "outputs": [],
   "source": [
    "import pandas as pd\n",
    "import numpy as np\n",
    "import matplotlib\n",
    "\n",
    "#per capita GDP of Serbia in 07\n",
    "\n",
    "euro_data = pd.read_csv('data/gapminder_gdp_europe.csv', index_col='country')\n",
    "data = pd.read_csv('data/gapminder_all.csv')"
   ]
  },
  {
   "cell_type": "code",
   "execution_count": 3,
   "id": "764008d6-35cf-4f21-951d-08a6c02e66c0",
   "metadata": {},
   "outputs": [
    {
     "name": "stdout",
     "output_type": "stream",
     "text": [
      "         gdpPercap_1952  gdpPercap_1957\n",
      "country                                \n",
      "Albania     1601.056136     1942.284244\n",
      "Austria     6137.076492     8842.598030\n",
      "         gdpPercap_1952  gdpPercap_1957  gdpPercap_1962\n",
      "country                                                \n",
      "Albania     1601.056136     1942.284244     2312.888958\n",
      "Austria     6137.076492     8842.598030    10750.721110\n",
      "Belgium     8343.105127     9714.960623    10991.206760\n"
     ]
    }
   ],
   "source": [
    "#Running lines from exercises.md file\n",
    "europe_gdp_data = pd.read_csv('data/gapminder_gdp_europe.csv', index_col='country')\n",
    "print(europe_gdp_data.iloc[0:2, 0:2])\n",
    "print(europe_gdp_data.loc['Albania':'Belgium', 'gdpPercap_1952':'gdpPercap_1962'])"
   ]
  },
  {
   "cell_type": "code",
   "execution_count": 5,
   "id": "144c5f9b-49e6-4a62-8ded-ae91745da5c9",
   "metadata": {},
   "outputs": [
    {
     "name": "stdout",
     "output_type": "stream",
     "text": [
      "country\n",
      "Albania                    3630.880722\n",
      "Austria                   21597.083620\n",
      "Belgium                   20979.845890\n",
      "Bosnia and Herzegovina     4126.613157\n",
      "Bulgaria                   8224.191647\n",
      "Croatia                   13221.821840\n",
      "Czech Republic            15377.228550\n",
      "Denmark                   21688.040480\n",
      "Finland                   18533.157610\n",
      "France                    20293.897460\n",
      "Germany                   22031.532740\n",
      "Greece                    15268.420890\n",
      "Hungary                   12545.990660\n",
      "Iceland                   23269.607500\n",
      "Ireland                   12618.321410\n",
      "Italy                     16537.483500\n",
      "Montenegro                11222.587620\n",
      "Netherlands               21399.460460\n",
      "Norway                    26298.635310\n",
      "Poland                     8451.531004\n",
      "Portugal                  11753.842910\n",
      "Romania                    9605.314053\n",
      "Serbia                    15181.092700\n",
      "Slovak Republic           11348.545850\n",
      "Slovenia                  17866.721750\n",
      "Spain                     13926.169970\n",
      "Sweden                    20667.381250\n",
      "Switzerland               28397.715120\n",
      "Turkey                     4241.356344\n",
      "United Kingdom            18232.424520\n",
      "Name: gdpPercap_1982, dtype: float64\n",
      "gdpPercap_1952     9692.385245\n",
      "gdpPercap_1957    11099.659350\n",
      "gdpPercap_1962    13583.313510\n",
      "gdpPercap_1967    15937.211230\n",
      "gdpPercap_1972    18866.207210\n",
      "gdpPercap_1977    20422.901500\n",
      "gdpPercap_1982    21688.040480\n",
      "gdpPercap_1987    25116.175810\n",
      "gdpPercap_1992    26406.739850\n",
      "gdpPercap_1997    29804.345670\n",
      "gdpPercap_2002    32166.500060\n",
      "gdpPercap_2007    35278.418740\n",
      "Name: Denmark, dtype: float64\n",
      "                        gdpPercap_1987  gdpPercap_1992  gdpPercap_1997  \\\n",
      "country                                                                  \n",
      "Albania                    3738.932735     2497.437901     3193.054604   \n",
      "Austria                   23687.826070    27042.018680    29095.920660   \n",
      "Belgium                   22525.563080    25575.570690    27561.196630   \n",
      "Bosnia and Herzegovina     4314.114757     2546.781445     4766.355904   \n",
      "Bulgaria                   8239.854824     6302.623438     5970.388760   \n",
      "Croatia                   13822.583940     8447.794873     9875.604515   \n",
      "Czech Republic            16310.443400    14297.021220    16048.514240   \n",
      "Denmark                   25116.175810    26406.739850    29804.345670   \n",
      "Finland                   21141.012230    20647.164990    23723.950200   \n",
      "France                    22066.442140    24703.796150    25889.784870   \n",
      "Germany                   24639.185660    26505.303170    27788.884160   \n",
      "Greece                    16120.528390    17541.496340    18747.698140   \n",
      "Hungary                   12986.479980    10535.628550    11712.776800   \n",
      "Iceland                   26923.206280    25144.392010    28061.099660   \n",
      "Ireland                   13872.866520    17558.815550    24521.947130   \n",
      "Italy                     19207.234820    22013.644860    24675.024460   \n",
      "Montenegro                11732.510170     7003.339037     6465.613349   \n",
      "Netherlands               23651.323610    26790.949610    30246.130630   \n",
      "Norway                    31540.974800    33965.661150    41283.164330   \n",
      "Poland                     9082.351172     7738.881247    10159.583680   \n",
      "Portugal                  13039.308760    16207.266630    17641.031560   \n",
      "Romania                    9696.273295     6598.409903     7346.547557   \n",
      "Serbia                    15870.878510     9325.068238     7914.320304   \n",
      "Slovak Republic           12037.267580     9498.467723    12126.230650   \n",
      "Slovenia                  18678.534920    14214.716810    17161.107350   \n",
      "Spain                     15764.983130    18603.064520    20445.298960   \n",
      "Sweden                    23586.929270    23880.016830    25266.594990   \n",
      "Switzerland               30281.704590    31871.530300    32135.323010   \n",
      "Turkey                     5089.043686     5678.348271     6601.429915   \n",
      "United Kingdom            21664.787670    22705.092540    26074.531360   \n",
      "\n",
      "                        gdpPercap_2002  gdpPercap_2007  \n",
      "country                                                 \n",
      "Albania                    4604.211737     5937.029526  \n",
      "Austria                   32417.607690    36126.492700  \n",
      "Belgium                   30485.883750    33692.605080  \n",
      "Bosnia and Herzegovina     6018.975239     7446.298803  \n",
      "Bulgaria                   7696.777725    10680.792820  \n",
      "Croatia                   11628.388950    14619.222720  \n",
      "Czech Republic            17596.210220    22833.308510  \n",
      "Denmark                   32166.500060    35278.418740  \n",
      "Finland                   28204.590570    33207.084400  \n",
      "France                    28926.032340    30470.016700  \n",
      "Germany                   30035.801980    32170.374420  \n",
      "Greece                    22514.254800    27538.411880  \n",
      "Hungary                   14843.935560    18008.944440  \n",
      "Iceland                   31163.201960    36180.789190  \n",
      "Ireland                   34077.049390    40675.996350  \n",
      "Italy                     27968.098170    28569.719700  \n",
      "Montenegro                 6557.194282     9253.896111  \n",
      "Netherlands               33724.757780    36797.933320  \n",
      "Norway                    44683.975250    49357.190170  \n",
      "Poland                    12002.239080    15389.924680  \n",
      "Portugal                  19970.907870    20509.647770  \n",
      "Romania                    7885.360081    10808.475610  \n",
      "Serbia                     7236.075251     9786.534714  \n",
      "Slovak Republic           13638.778370    18678.314350  \n",
      "Slovenia                  20660.019360    25768.257590  \n",
      "Spain                     24835.471660    28821.063700  \n",
      "Sweden                    29341.630930    33859.748350  \n",
      "Switzerland               34480.957710    37506.419070  \n",
      "Turkey                     6508.085718     8458.276384  \n",
      "United Kingdom            29478.999190    33203.261280  \n"
     ]
    }
   ],
   "source": [
    "print(data['gdpPercap_1982'])\n",
    "print(data.loc['Denmark',:])\n",
    "print(data.loc[:,'gdpPercap_1985':])"
   ]
  },
  {
   "cell_type": "code",
   "execution_count": 6,
   "id": "ff6c2c04-9c1c-4c6d-bc0a-7aae77a7f8de",
   "metadata": {},
   "outputs": [
    {
     "name": "stdout",
     "output_type": "stream",
     "text": [
      "country\n",
      "Albania                   3.708196\n",
      "Austria                   5.886596\n",
      "Belgium                   4.038377\n",
      "Bosnia and Herzegovina    7.648736\n",
      "Bulgaria                  4.369697\n",
      "Croatia                   4.686795\n",
      "Czech Republic            3.320658\n",
      "Denmark                   3.639808\n",
      "Finland                   5.168805\n",
      "France                    4.334402\n",
      "Germany                   4.503060\n",
      "Greece                    7.799725\n",
      "Hungary                   3.421364\n",
      "Iceland                   4.978308\n",
      "Ireland                   7.806873\n",
      "Italy                     5.793425\n",
      "Montenegro                3.495221\n",
      "Netherlands               4.115376\n",
      "Norway                    4.889067\n",
      "Poland                    3.819475\n",
      "Portugal                  6.684325\n",
      "Romania                   3.437140\n",
      "Serbia                    2.732555\n",
      "Slovak Republic           3.680703\n",
      "Slovenia                  6.113405\n",
      "Spain                     7.517163\n",
      "Sweden                    3.970493\n",
      "Switzerland               2.545529\n",
      "Turkey                    4.295502\n",
      "United Kingdom            3.327144\n",
      "dtype: float64\n"
     ]
    }
   ],
   "source": [
    "#GDP per capita for each country in 2007 as a multiple of GDP per capita for that country in 1952.\n",
    "data_07 = data['gdpPercap_2007']\n",
    "data_52 = data['gdpPercap_1952']\n",
    "print(data_07 / data_52)"
   ]
  },
  {
   "cell_type": "code",
   "execution_count": 11,
   "id": "e8f6ec33-11d2-483b-82da-f0db3c36a755",
   "metadata": {},
   "outputs": [
    {
     "data": {
      "image/png": "[encoded data removed]",
      "text/plain": [
       "<Figure size 432x288 with 1 Axes>"
      ]
     },
     "metadata": {
      "needs_background": "light"
     },
     "output_type": "display_data"
    }
   ],
   "source": [
    "boxplot = data.boxplot(column='gdpPercap_2007')"
   ]
  },
  {
   "cell_type": "code",
   "execution_count": 12,
   "id": "5a19f054-6450-403e-92de-9d5266b7e343",
   "metadata": {},
   "outputs": [
    {
     "ename": "ValueError",
     "evalue": "level name lifeExp_2007 is not the name of the columns",
     "output_type": "error",
     "traceback": [
      "\u001b[0;31m---------------------------------------------------------------------------\u001b[0m",
      "\u001b[0;31mValueError\u001b[0m                                Traceback (most recent call last)",
      "Input \u001b[0;32mIn [12]\u001b[0m, in \u001b[0;36m<module>\u001b[0;34m\u001b[0m\n\u001b[0;32m----> 1\u001b[0m life_expect \u001b[38;5;241m=\u001b[39m \u001b[43mdata\u001b[49m\u001b[38;5;241;43m.\u001b[39;49m\u001b[43mgroupby\u001b[49m\u001b[43m(\u001b[49m\u001b[43mby\u001b[49m\u001b[38;5;241;43m=\u001b[39;49m\u001b[38;5;124;43m'\u001b[39;49m\u001b[38;5;124;43mcontinent\u001b[39;49m\u001b[38;5;124;43m'\u001b[39;49m\u001b[43m,\u001b[49m\u001b[43m \u001b[49m\u001b[43maxis\u001b[49m\u001b[38;5;241;43m=\u001b[39;49m\u001b[38;5;241;43m1\u001b[39;49m\u001b[43m,\u001b[49m\u001b[43m \u001b[49m\u001b[43mlevel\u001b[49m\u001b[38;5;241;43m=\u001b[39;49m\u001b[38;5;124;43m'\u001b[39;49m\u001b[38;5;124;43mlifeExp_2007\u001b[39;49m\u001b[38;5;124;43m'\u001b[39;49m\u001b[43m)\u001b[49m\n",
      "File \u001b[0;32m~/Documents/CMU/Spr22/SoftwareCrafting/recitation-env/in-class-2022/feb-22-jupyter/lib/python3.10/site-packages/pandas/core/frame.py:7706\u001b[0m, in \u001b[0;36mDataFrame.groupby\u001b[0;34m(self, by, axis, level, as_index, sort, group_keys, squeeze, observed, dropna)\u001b[0m\n\u001b[1;32m   7701\u001b[0m axis \u001b[38;5;241m=\u001b[39m \u001b[38;5;28mself\u001b[39m\u001b[38;5;241m.\u001b[39m_get_axis_number(axis)\n\u001b[1;32m   7703\u001b[0m \u001b[38;5;66;03m# https://github.com/python/mypy/issues/7642\u001b[39;00m\n\u001b[1;32m   7704\u001b[0m \u001b[38;5;66;03m# error: Argument \"squeeze\" to \"DataFrameGroupBy\" has incompatible type\u001b[39;00m\n\u001b[1;32m   7705\u001b[0m \u001b[38;5;66;03m# \"Union[bool, NoDefault]\"; expected \"bool\"\u001b[39;00m\n\u001b[0;32m-> 7706\u001b[0m \u001b[38;5;28;01mreturn\u001b[39;00m \u001b[43mDataFrameGroupBy\u001b[49m\u001b[43m(\u001b[49m\n\u001b[1;32m   7707\u001b[0m \u001b[43m    \u001b[49m\u001b[43mobj\u001b[49m\u001b[38;5;241;43m=\u001b[39;49m\u001b[38;5;28;43mself\u001b[39;49m\u001b[43m,\u001b[49m\n\u001b[1;32m   7708\u001b[0m \u001b[43m    \u001b[49m\u001b[43mkeys\u001b[49m\u001b[38;5;241;43m=\u001b[39;49m\u001b[43mby\u001b[49m\u001b[43m,\u001b[49m\n\u001b[1;32m   7709\u001b[0m \u001b[43m    \u001b[49m\u001b[43maxis\u001b[49m\u001b[38;5;241;43m=\u001b[39;49m\u001b[43maxis\u001b[49m\u001b[43m,\u001b[49m\n\u001b[1;32m   7710\u001b[0m \u001b[43m    \u001b[49m\u001b[43mlevel\u001b[49m\u001b[38;5;241;43m=\u001b[39;49m\u001b[43mlevel\u001b[49m\u001b[43m,\u001b[49m\n\u001b[1;32m   7711\u001b[0m \u001b[43m    \u001b[49m\u001b[43mas_index\u001b[49m\u001b[38;5;241;43m=\u001b[39;49m\u001b[43mas_index\u001b[49m\u001b[43m,\u001b[49m\n\u001b[1;32m   7712\u001b[0m \u001b[43m    \u001b[49m\u001b[43msort\u001b[49m\u001b[38;5;241;43m=\u001b[39;49m\u001b[43msort\u001b[49m\u001b[43m,\u001b[49m\n\u001b[1;32m   7713\u001b[0m \u001b[43m    \u001b[49m\u001b[43mgroup_keys\u001b[49m\u001b[38;5;241;43m=\u001b[39;49m\u001b[43mgroup_keys\u001b[49m\u001b[43m,\u001b[49m\n\u001b[1;32m   7714\u001b[0m \u001b[43m    \u001b[49m\u001b[43msqueeze\u001b[49m\u001b[38;5;241;43m=\u001b[39;49m\u001b[43msqueeze\u001b[49m\u001b[43m,\u001b[49m\u001b[43m  \u001b[49m\u001b[38;5;66;43;03m# type: ignore[arg-type]\u001b[39;49;00m\n\u001b[1;32m   7715\u001b[0m \u001b[43m    \u001b[49m\u001b[43mobserved\u001b[49m\u001b[38;5;241;43m=\u001b[39;49m\u001b[43mobserved\u001b[49m\u001b[43m,\u001b[49m\n\u001b[1;32m   7716\u001b[0m \u001b[43m    \u001b[49m\u001b[43mdropna\u001b[49m\u001b[38;5;241;43m=\u001b[39;49m\u001b[43mdropna\u001b[49m\u001b[43m,\u001b[49m\n\u001b[1;32m   7717\u001b[0m \u001b[43m\u001b[49m\u001b[43m)\u001b[49m\n",
      "File \u001b[0;32m~/Documents/CMU/Spr22/SoftwareCrafting/recitation-env/in-class-2022/feb-22-jupyter/lib/python3.10/site-packages/pandas/core/groupby/groupby.py:882\u001b[0m, in \u001b[0;36mGroupBy.__init__\u001b[0;34m(self, obj, keys, axis, level, grouper, exclusions, selection, as_index, sort, group_keys, squeeze, observed, mutated, dropna)\u001b[0m\n\u001b[1;32m    879\u001b[0m \u001b[38;5;28;01mif\u001b[39;00m grouper \u001b[38;5;129;01mis\u001b[39;00m \u001b[38;5;28;01mNone\u001b[39;00m:\n\u001b[1;32m    880\u001b[0m     \u001b[38;5;28;01mfrom\u001b[39;00m \u001b[38;5;21;01mpandas\u001b[39;00m\u001b[38;5;21;01m.\u001b[39;00m\u001b[38;5;21;01mcore\u001b[39;00m\u001b[38;5;21;01m.\u001b[39;00m\u001b[38;5;21;01mgroupby\u001b[39;00m\u001b[38;5;21;01m.\u001b[39;00m\u001b[38;5;21;01mgrouper\u001b[39;00m \u001b[38;5;28;01mimport\u001b[39;00m get_grouper\n\u001b[0;32m--> 882\u001b[0m     grouper, exclusions, obj \u001b[38;5;241m=\u001b[39m \u001b[43mget_grouper\u001b[49m\u001b[43m(\u001b[49m\n\u001b[1;32m    883\u001b[0m \u001b[43m        \u001b[49m\u001b[43mobj\u001b[49m\u001b[43m,\u001b[49m\n\u001b[1;32m    884\u001b[0m \u001b[43m        \u001b[49m\u001b[43mkeys\u001b[49m\u001b[43m,\u001b[49m\n\u001b[1;32m    885\u001b[0m \u001b[43m        \u001b[49m\u001b[43maxis\u001b[49m\u001b[38;5;241;43m=\u001b[39;49m\u001b[43maxis\u001b[49m\u001b[43m,\u001b[49m\n\u001b[1;32m    886\u001b[0m \u001b[43m        \u001b[49m\u001b[43mlevel\u001b[49m\u001b[38;5;241;43m=\u001b[39;49m\u001b[43mlevel\u001b[49m\u001b[43m,\u001b[49m\n\u001b[1;32m    887\u001b[0m \u001b[43m        \u001b[49m\u001b[43msort\u001b[49m\u001b[38;5;241;43m=\u001b[39;49m\u001b[43msort\u001b[49m\u001b[43m,\u001b[49m\n\u001b[1;32m    888\u001b[0m \u001b[43m        \u001b[49m\u001b[43mobserved\u001b[49m\u001b[38;5;241;43m=\u001b[39;49m\u001b[43mobserved\u001b[49m\u001b[43m,\u001b[49m\n\u001b[1;32m    889\u001b[0m \u001b[43m        \u001b[49m\u001b[43mmutated\u001b[49m\u001b[38;5;241;43m=\u001b[39;49m\u001b[38;5;28;43mself\u001b[39;49m\u001b[38;5;241;43m.\u001b[39;49m\u001b[43mmutated\u001b[49m\u001b[43m,\u001b[49m\n\u001b[1;32m    890\u001b[0m \u001b[43m        \u001b[49m\u001b[43mdropna\u001b[49m\u001b[38;5;241;43m=\u001b[39;49m\u001b[38;5;28;43mself\u001b[39;49m\u001b[38;5;241;43m.\u001b[39;49m\u001b[43mdropna\u001b[49m\u001b[43m,\u001b[49m\n\u001b[1;32m    891\u001b[0m \u001b[43m    \u001b[49m\u001b[43m)\u001b[49m\n\u001b[1;32m    893\u001b[0m \u001b[38;5;28mself\u001b[39m\u001b[38;5;241m.\u001b[39mobj \u001b[38;5;241m=\u001b[39m obj\n\u001b[1;32m    894\u001b[0m \u001b[38;5;28mself\u001b[39m\u001b[38;5;241m.\u001b[39maxis \u001b[38;5;241m=\u001b[39m obj\u001b[38;5;241m.\u001b[39m_get_axis_number(axis)\n",
      "File \u001b[0;32m~/Documents/CMU/Spr22/SoftwareCrafting/recitation-env/in-class-2022/feb-22-jupyter/lib/python3.10/site-packages/pandas/core/groupby/grouper.py:770\u001b[0m, in \u001b[0;36mget_grouper\u001b[0;34m(obj, key, axis, level, sort, observed, mutated, validate, dropna)\u001b[0m\n\u001b[1;32m    768\u001b[0m \u001b[38;5;28;01mif\u001b[39;00m \u001b[38;5;28misinstance\u001b[39m(level, \u001b[38;5;28mstr\u001b[39m):\n\u001b[1;32m    769\u001b[0m     \u001b[38;5;28;01mif\u001b[39;00m obj\u001b[38;5;241m.\u001b[39m_get_axis(axis)\u001b[38;5;241m.\u001b[39mname \u001b[38;5;241m!=\u001b[39m level:\n\u001b[0;32m--> 770\u001b[0m         \u001b[38;5;28;01mraise\u001b[39;00m \u001b[38;5;167;01mValueError\u001b[39;00m(\n\u001b[1;32m    771\u001b[0m             \u001b[38;5;124mf\u001b[39m\u001b[38;5;124m\"\u001b[39m\u001b[38;5;124mlevel name \u001b[39m\u001b[38;5;132;01m{\u001b[39;00mlevel\u001b[38;5;132;01m}\u001b[39;00m\u001b[38;5;124m is not the name \u001b[39m\u001b[38;5;124m\"\u001b[39m\n\u001b[1;32m    772\u001b[0m             \u001b[38;5;124mf\u001b[39m\u001b[38;5;124m\"\u001b[39m\u001b[38;5;124mof the \u001b[39m\u001b[38;5;132;01m{\u001b[39;00mobj\u001b[38;5;241m.\u001b[39m_get_axis_name(axis)\u001b[38;5;132;01m}\u001b[39;00m\u001b[38;5;124m\"\u001b[39m\n\u001b[1;32m    773\u001b[0m         )\n\u001b[1;32m    774\u001b[0m \u001b[38;5;28;01melif\u001b[39;00m level \u001b[38;5;241m>\u001b[39m \u001b[38;5;241m0\u001b[39m \u001b[38;5;129;01mor\u001b[39;00m level \u001b[38;5;241m<\u001b[39m \u001b[38;5;241m-\u001b[39m\u001b[38;5;241m1\u001b[39m:\n\u001b[1;32m    775\u001b[0m     \u001b[38;5;28;01mraise\u001b[39;00m \u001b[38;5;167;01mValueError\u001b[39;00m(\u001b[38;5;124m\"\u001b[39m\u001b[38;5;124mlevel > 0 or level < -1 only valid with MultiIndex\u001b[39m\u001b[38;5;124m\"\u001b[39m)\n",
      "\u001b[0;31mValueError\u001b[0m: level name lifeExp_2007 is not the name of the columns"
     ]
    }
   ],
   "source": [
    "life_expect = data.groupby(by='lifeExp_2007', axis=0)"
   ]
  },
  {
   "cell_type": "code",
   "execution_count": null,
   "id": "c649afbc-67f5-41ec-b3e6-f964f3b22355",
   "metadata": {},
   "outputs": [],
   "source": []
  }
 ],
 "metadata": {
  "kernelspec": {
   "display_name": "Python 3 (ipykernel)",
   "language": "python",
   "name": "python3"
  },
  "language_info": {
   "codemirror_mode": {
    "name": "ipython",
    "version": 3
   },
   "file_extension": ".py",
   "mimetype": "text/x-python",
   "name": "python",
   "nbconvert_exporter": "python",
   "pygments_lexer": "ipython3",
   "version": "3.10.2"
  }
 },
 "nbformat": 4,
 "nbformat_minor": 5
}
