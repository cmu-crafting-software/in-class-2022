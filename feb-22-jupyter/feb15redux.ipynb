{
 "cells": [
  {
   "cell_type": "code",
   "execution_count": 1,
   "id": "473ba3e9-30df-41d0-82c7-5a4640718d33",
   "metadata": {},
   "outputs": [
    {
     "ename": "ModuleNotFoundError",
     "evalue": "No module named 'pandas'",
     "output_type": "error",
     "traceback": [
      "\u001b[0;31m---------------------------------------------------------------------------\u001b[0m",
      "\u001b[0;31mModuleNotFoundError\u001b[0m                       Traceback (most recent call last)",
      "Input \u001b[0;32mIn [1]\u001b[0m, in \u001b[0;36m<module>\u001b[0;34m\u001b[0m\n\u001b[0;32m----> 1\u001b[0m \u001b[38;5;28;01mimport\u001b[39;00m \u001b[38;5;21;01mpandas\u001b[39;00m \u001b[38;5;28;01mas\u001b[39;00m \u001b[38;5;21;01mpd\u001b[39;00m\n\u001b[1;32m      3\u001b[0m data \u001b[38;5;241m=\u001b[39m pd\u001b[38;5;241m.\u001b[39mread_csv(\u001b[38;5;124m'\u001b[39m\u001b[38;5;124mdata/gapminder_all.csv\u001b[39m\u001b[38;5;124m'\u001b[39m)\n\u001b[1;32m      4\u001b[0m serbia \u001b[38;5;241m=\u001b[39m data[data\u001b[38;5;241m.\u001b[39mcountry\u001b[38;5;241m==\u001b[39m\u001b[38;5;124m'\u001b[39m\u001b[38;5;124mSerbia\u001b[39m\u001b[38;5;124m'\u001b[39m]\n",
      "\u001b[0;31mModuleNotFoundError\u001b[0m: No module named 'pandas'"
     ]
    }
   ],
   "source": [
    "import pandas as pd\n",
    "\n",
    "data = pd.read_csv('data/gapminder_all.csv')\n",
    "serbia = data[data.country=='Serbia']\n",
    "print(serbia['gdpPercap_2007'])\n",
    "\n",
    "europe_gdp_data = pd.read_csv('data/gapminder_gdp_europe.csv', index_col='country')\n",
    "print('line2')\n",
    "print(europe_gdp_data.iloc[0:2, 0:2])\n",
    "print('line3')\n",
    "print(europe_gdp_data.loc['Albania':'Belgium', 'gdpPercap_1952':'gdpPercap_1962'])\n",
    "\n",
    "#Write an expression to select each of the following:\n",
    "#GDP per capita for all countries in 1982.\n",
    "p41 = data['gdpPercap_1982']\n",
    "#GDP per capita for Denmark for all years.\n",
    "denmark = data[data.country=='Denmark']\n",
    "p42 = denmark.filter(regex='gdp')\n",
    "#GDP per capita for all countries for years after 1985.\n",
    "p43 = pd.wide_to_long(data, stubnames=['gdpPercap_', 'lifeExp_', 'pop_'], i=['continent', 'country'], j='year')\n",
    "print(p43.head())\n",
    "#GDP per capita for each country in 2007 as a multiple of GDP per capita for that country in 1952.\n"
   ]
  },
  {
   "cell_type": "code",
   "execution_count": null,
   "id": "953b1789-c5ea-4190-a60f-34d093777d2c",
   "metadata": {},
   "outputs": [],
   "source": []
  },
  {
   "cell_type": "code",
   "execution_count": null,
   "id": "3f345d73-01ad-48ae-bd25-91fa87d8212a",
   "metadata": {},
   "outputs": [],
   "source": []
  },
  {
   "cell_type": "code",
   "execution_count": null,
   "id": "31588bb9-2575-4c6c-bd48-b853210263c9",
   "metadata": {},
   "outputs": [],
   "source": []
  },
  {
   "cell_type": "code",
   "execution_count": 24,
   "id": "1ba1caae-1f8e-4fb3-af4d-652b713cb33b",
   "metadata": {},
   "outputs": [
    {
     "name": "stdout",
     "output_type": "stream",
     "text": [
      "line1\n",
      "132    9786.534714\n",
      "Name: gdpPercap_2007, dtype: float64\n",
      "line2\n",
      "         gdpPercap_1952  gdpPercap_1957\n",
      "country                                \n",
      "Albania     1601.056136     1942.284244\n",
      "Austria     6137.076492     8842.598030\n",
      "line3\n",
      "         gdpPercap_1952  gdpPercap_1957  gdpPercap_1962\n",
      "country                                                \n",
      "Albania     1601.056136     1942.284244     2312.888958\n",
      "Austria     6137.076492     8842.598030    10750.721110\n",
      "Belgium     8343.105127     9714.960623    10991.206760\n",
      "                         gdpPercap_  lifeExp_        pop_\n",
      "continent country year                                   \n",
      "Africa    Algeria 1952  2449.008185    43.077   9279525.0\n",
      "                  1957  3013.976023    45.685  10270856.0\n",
      "                  1962  2550.816880    48.303  11000948.0\n",
      "                  1967  3246.991771    51.407  12760499.0\n",
      "                  1972  4182.663766    54.518  14760787.0\n"
     ]
    },
    {
     "data": {
      "text/plain": [
       "<AxesSubplot:title={'center':'totalGdp_2007'}, xlabel='continent'>"
      ]
     },
     "execution_count": 24,
     "metadata": {},
     "output_type": "execute_result"
    },
    {
     "data": {
      "image/png": "[encoded data removed]",
      "text/plain": [
       "<Figure size 432x288 with 1 Axes>"
      ]
     },
     "metadata": {
      "needs_background": "light"
     },
     "output_type": "display_data"
    }
   ],
   "source": [
    "import pandas as pd\n",
    "\n",
    "print('line1')\n",
    "data = pd.read_csv('data/gapminder_all.csv')\n",
    "serbia = data[data.country=='Serbia']\n",
    "print(serbia['gdpPercap_2007'])\n",
    "\n",
    "europe_gdp_data = pd.read_csv('data/gapminder_gdp_europe.csv', index_col='country')\n",
    "print('line2')\n",
    "print(europe_gdp_data.iloc[0:2, 0:2])\n",
    "print('line3')\n",
    "print(europe_gdp_data.loc['Albania':'Belgium', 'gdpPercap_1952':'gdpPercap_1962'])\n",
    "\n",
    "#Write an expression to select each of the following:\n",
    "#GDP per capita for all countries in 1982.\n",
    "p41 = data['gdpPercap_1982']\n",
    "#GDP per capita for Denmark for all years.\n",
    "denmark = data[data.country=='Denmark']\n",
    "p42 = denmark.filter(regex='gdp')\n",
    "#GDP per capita for all countries for years after 1985.\n",
    "p43 = pd.wide_to_long(data, stubnames=['gdpPercap_', 'lifeExp_', 'pop_'], i=['continent', 'country'], j='year')\n",
    "print(p43.head())\n",
    "#GDP per capita for each country in 2007 as a multiple of GDP per capita for that country in 1952.\n",
    "\n",
    "data['totalGdp_2007'] = data['gdpPercap_2007']*data['pop_2007']\n",
    "data.boxplot(column='totalGdp_2007', by='continent')\n",
    "#data.boxplot(column='gdpPercap_2007')\n",
    "#data.boxplot(column='lifeExp_2007', by='continent')\n",
    "#data.boxplot(column='gdpPercap_2007', by='continent')\n"
   ]
  },
  {
   "cell_type": "code",
   "execution_count": null,
   "id": "ffabc806-6924-4146-9490-e230f91bc669",
   "metadata": {},
   "outputs": [],
   "source": []
  }
 ],
 "metadata": {
  "kernelspec": {
   "display_name": "Python 3 (ipykernel)",
   "language": "python",
   "name": "python3"
  },
  "language_info": {
   "codemirror_mode": {
    "name": "ipython",
    "version": 3
   },
   "file_extension": ".py",
   "mimetype": "text/x-python",
   "name": "python",
   "nbconvert_exporter": "python",
   "pygments_lexer": "ipython3",
   "version": "3.10.2"
  }
 },
 "nbformat": 4,
 "nbformat_minor": 5
}
